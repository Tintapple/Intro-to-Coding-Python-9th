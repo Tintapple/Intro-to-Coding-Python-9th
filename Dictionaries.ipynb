{
 "cells": [
  {
   "cell_type": "markdown",
   "id": "28cf685b",
   "metadata": {},
   "source": [
    "Problem 5"
   ]
  },
  {
   "cell_type": "code",
   "execution_count": null,
   "id": "8de54415",
   "metadata": {},
   "outputs": [
    {
     "name": "stdout",
     "output_type": "stream",
     "text": [
      "5874\n",
      "5874\n",
      "5874\n",
      "5874\n",
      "5874\n",
      "5874\n",
      "['b', 'c', 'e']\n"
     ]
    }
   ],
   "source": [
    "def top_three(user_dict):\n",
    "    values= []\n",
    "    big_three=[]\n",
    "    for items in user_dict:\n",
    "        values.append(user_dict[items])\n",
    "        values.sort()\n",
    "    for items in user_dict:\n",
    "        if values[-1]== user_dict[items]:\n",
    "            big_three.append(items)\n",
    "        elif values[-2]== user_dict[items]:\n",
    "            big_three.append(items)\n",
    "        elif values[-3]== user_dict[items]:\n",
    "            big_three.append(items)\n",
    "    return big_three\n",
    "\n",
    "sample_dict= {'a':500, 'b':5874, 'c': 560,'d':400, 'e':5874, 'f': 20}\n",
    "print(top_three(sample_dict))"
   ]
  },
  {
   "cell_type": "markdown",
   "id": "540aee7f",
   "metadata": {},
   "source": [
    "Problem 6\n",
    "\n",
    "Write a Python function that takes 2 lists as parameters and returns the two lists merged into a dictionary, where the elements of the first list are the keys and the elements of the 2nd list are the values.\n",
    "\n",
    "key_list = ['integer', 'list', 'string', 'tuple']\n",
    "val_list = [30, ['this', 'is', 'a', 'list'], 'this is a string', ('this', 'is', 'a', 'tuple')]\n",
    "\n",
    "Expected Output: \t{'integer': 30, \n",
    "'list': ['this', 'is', 'a', 'list'], \n",
    "'string': 'this is a string', \n",
    "'tuple': ('this', 'is', 'a', 'tuple')}\n"
   ]
  },
  {
   "cell_type": "code",
   "execution_count": 26,
   "id": "70c83c23",
   "metadata": {},
   "outputs": [
    {
     "name": "stdout",
     "output_type": "stream",
     "text": [
      "{'integer': 30, 'list': ['this', 'is', 'a', 'list'], 'string': 'this is a string', 'tuple': ('this', 'is', 'a', 'tuple')}\n"
     ]
    }
   ],
   "source": [
    "def dictionary_maker(user_list1, userlist2):\n",
    "    keys=[]\n",
    "    values=[]\n",
    "    dictionary={}\n",
    "    for items in user_list1:\n",
    "        keys.append(items)\n",
    "    for items in userlist2:\n",
    "        values.append(items)\n",
    "    for items in range(0, len(keys)):\n",
    "        dictionary.update({keys[items]:values[items]})\n",
    "    return dictionary\n",
    "\n",
    "\n",
    "key_list = ['integer', 'list', 'string', 'tuple']\n",
    "val_list = [30, ['this', 'is', 'a', 'list'], 'this is a string', ('this', 'is', 'a', 'tuple')]\n",
    "print(dictionary_maker(key_list,val_list))"
   ]
  }
 ],
 "metadata": {
  "kernelspec": {
   "display_name": "Python 3",
   "language": "python",
   "name": "python3"
  },
  "language_info": {
   "codemirror_mode": {
    "name": "ipython",
    "version": 3
   },
   "file_extension": ".py",
   "mimetype": "text/x-python",
   "name": "python",
   "nbconvert_exporter": "python",
   "pygments_lexer": "ipython3",
   "version": "3.12.1"
  }
 },
 "nbformat": 4,
 "nbformat_minor": 5
}
