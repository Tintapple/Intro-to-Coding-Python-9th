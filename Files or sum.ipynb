def open_file(filename, read='read'):
  with open(filename, 'r') as f:
    if option ='read'
      return f.read()
    elif option ='readlines 
      return f.readlines()
    else:
      return None

data= open_file('file_name.txt')
for line in data:
  print(line)

# How to write into a file
with open('new_file.txt', 'w') as f:
  text='Helllo World!!'
  f.write(text)

def writefile(file_name, a_string, mode)
  with opened(file_name, mod) as f:
  f.write(a_string)
