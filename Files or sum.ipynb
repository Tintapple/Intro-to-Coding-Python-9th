def open_file(filename, read='read'):
  with open(filename, 'r') as f:
    if option ='read'
      return f.read()
    elif option ='readlines 
      return f.readlines()
    else:
      return None

data= open_file('file_name.txt')
print(data)

